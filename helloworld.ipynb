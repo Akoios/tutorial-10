{
   "cells":[
      {
         "cell_type":"code",
         "execution_count":2,
         "metadata":{
            "scrolled":true
         },
         "outputs":[
            {
               "data":{
                  "text/plain":[
                     "'yaml\\ntitan: v1\\nservice:\\n  image: scipy\\n  machine:\\n    cpu: 2\\n    memory: 1024MB\\n  commands:\\n    - pip install -r requirements.txt\\n'"
                  ]
               },
               "execution_count":2,
               "metadata":{

               },
               "output_type":"execute_result"
            }
         ],
         "source":[
            "'''yaml\n",
            "titan: v1\n",
            "service:\n",
            "  image: scipy\n",
            "  machine:\n",
            "    cpu: 2\n",
            "    memory: 1024MB\n",
            "'''"
         ]
      },
      {
         "cell_type":"code",
         "execution_count":3,
         "metadata":{

         },
         "outputs":[
            {
               "name":"stdout",
               "output_type":"stream",
               "text":[
                  "Hello world\n"
               ]
            }
         ],
         "source":[
            "# GET /hello\n",
            "print(\"Hello CI\")"
         ]
      },
      {
         "cell_type":"code",
         "execution_count":null,
         "metadata":{

         },
         "outputs":[

         ],
         "source":[

         ]
      }
   ],
   "metadata":{
      "colab":{
         "name":"helloworld.ipynb",
         "provenance":[

         ]
      },
      "kernelspec":{
         "display_name":"Python 3",
         "language":"python",
         "name":"python3"
      },
      "language_info":{
         "codemirror_mode":{
            "name":"ipython",
            "version":3
         },
         "file_extension":".py",
         "mimetype":"text/x-python",
         "name":"python",
         "nbconvert_exporter":"python",
         "pygments_lexer":"ipython3",
         "version":"3.7.1"
      }
   },
   "nbformat":4,
   "nbformat_minor":1
}
